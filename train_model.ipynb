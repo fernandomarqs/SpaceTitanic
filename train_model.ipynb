{
 "cells": [
  {
   "cell_type": "code",
   "execution_count": null,
   "metadata": {},
   "outputs": [],
   "source": [
    "import numpy as np\n",
    "import pandas as pd\n",
    "import sklearn\n",
    "import seaborn as sns\n",
    "\n",
    "from sklearn import model_selection\n",
    "from sklearn.model_selection import train_test_split\n",
    "from sklearn.model_selection import cross_val_predict\n",
    "from sklearn.metrics import classification_report\n",
    "from sklearn.ensemble import RandomForestRegressor\n",
    "from sklearn.ensemble import RandomForestClassifier\n",
    "from sklearn.metrics import accuracy_score"
   ]
  },
  {
   "cell_type": "code",
   "execution_count": null,
   "metadata": {},
   "outputs": [],
   "source": [
    "df = pd.read_csv(\"train.csv\").dropna()\n",
    "#formatting data\n",
    "df['Transported'] = df['Transported'].map({False: 0, True: 1})\n",
    "df['Earth'] = np.select([df['HomePlanet'] == 'Earth'], [1], default = 0)\n",
    "df['Europa'] = np.select([df['HomePlanet'] == 'Europa'], [1], default = 0)\n",
    "df['Mars'] = np.select([df['HomePlanet'] == 'Mars'], [1], default = 0)\n",
    "df['CryoSleep'] = np.select([df['CryoSleep'] == True], [1], default = 0)\n",
    "df['VIP'] = np.select([df['VIP'] == True], [1], default = 0)\n",
    "df['TRAP'] = np.select([df['Destination'] == 'TRAPPIST-1e'], [1], default = 0)\n",
    "df['PSO'] = np.select([df['Destination'] == 'PSO J318.5-22'], [1], default = 0)\n",
    "df['Cancri'] = np.select([df['Destination'] == '55 Cancri e'], [1], default = 0)\n",
    "df = df.drop(columns=['Destination', 'HomePlanet', 'Name', 'Cabin', 'PassengerId'], axis=1)\n",
    "df.dtypes"
   ]
  },
  {
   "cell_type": "code",
   "execution_count": null,
   "metadata": {},
   "outputs": [],
   "source": [
    "X = np.array(df.drop(columns=['Transported'], axis=1))\n",
    "y = np.array(df['Transported'])\n",
    "#train_X, val_X, train_y, val_y = train_test_split(X, y, random_state = 0)\n",
    "x_train, x_test, y_train, y_test = train_test_split(X, y, random_state = 1, test_size = 0.5)\n"
   ]
  },
  {
   "cell_type": "code",
   "execution_count": null,
   "metadata": {},
   "outputs": [],
   "source": [
    "train_pred = cross_val_predict(RandomForestClassifier(random_state = 1), x_train, y_train, cv = 10, n_jobs=-1)\n",
    "acuracia_vc = round(accuracy_score(y_train, train_pred)*100, 2)\n",
    "acuracia_vc\n"
   ]
  }
 ],
 "metadata": {
  "kernelspec": {
   "display_name": "base",
   "language": "python",
   "name": "python3"
  },
  "language_info": {
   "codemirror_mode": {
    "name": "ipython",
    "version": 3
   },
   "file_extension": ".py",
   "mimetype": "text/x-python",
   "name": "python",
   "nbconvert_exporter": "python",
   "pygments_lexer": "ipython3",
   "version": "3.9.13"
  },
  "orig_nbformat": 4,
  "vscode": {
   "interpreter": {
    "hash": "f8888cef93c0ab2dad8757649d3fb165fc7199744cbfe7914d8ac677a8dac0b4"
   }
  }
 },
 "nbformat": 4,
 "nbformat_minor": 2
}
